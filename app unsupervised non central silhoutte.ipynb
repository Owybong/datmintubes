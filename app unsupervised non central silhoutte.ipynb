{
 "cells": [
  {
   "cell_type": "code",
   "execution_count": 157,
   "id": "070db8ec",
   "metadata": {},
   "outputs": [],
   "source": [
    "from sklearn.preprocessing import StandardScaler\n",
    "from sklearn.cluster import KMeans\n",
    "from sklearn.metrics import silhouette_score\n",
    "import matplotlib.pyplot as plt\n",
    "import seaborn as sns\n",
    "import pandas as pd\n",
    "import numpy as np"
   ]
  },
  {
   "cell_type": "code",
   "execution_count": 158,
   "id": "6c092cad",
   "metadata": {},
   "outputs": [],
   "source": [
    "df = pd.read_csv('unsupervised(elian).csv')"
   ]
  },
  {
   "cell_type": "code",
   "execution_count": 159,
   "id": "aa8df77d",
   "metadata": {},
   "outputs": [],
   "source": [
    "df.drop(['cluster'],axis=1, inplace=True)"
   ]
  },
  {
   "cell_type": "code",
   "execution_count": 160,
   "id": "ac6a2aee",
   "metadata": {},
   "outputs": [
    {
     "data": {
      "text/plain": [
       "price                           0\n",
       "availability_365                0\n",
       "room_type                       0\n",
       "review_scores_rating            0\n",
       "neighbourhood_group_cleansed    0\n",
       "dtype: int64"
      ]
     },
     "execution_count": 160,
     "metadata": {},
     "output_type": "execute_result"
    }
   ],
   "source": [
    "df.isnull().sum()"
   ]
  },
  {
   "cell_type": "code",
   "execution_count": 161,
   "id": "1fce9e65",
   "metadata": {},
   "outputs": [
    {
     "data": {
      "text/html": [
       "<div>\n",
       "<style scoped>\n",
       "    .dataframe tbody tr th:only-of-type {\n",
       "        vertical-align: middle;\n",
       "    }\n",
       "\n",
       "    .dataframe tbody tr th {\n",
       "        vertical-align: top;\n",
       "    }\n",
       "\n",
       "    .dataframe thead th {\n",
       "        text-align: right;\n",
       "    }\n",
       "</style>\n",
       "<table border=\"1\" class=\"dataframe\">\n",
       "  <thead>\n",
       "    <tr style=\"text-align: right;\">\n",
       "      <th></th>\n",
       "      <th>price</th>\n",
       "      <th>availability_365</th>\n",
       "      <th>room_type</th>\n",
       "      <th>review_scores_rating</th>\n",
       "      <th>neighbourhood_group_cleansed</th>\n",
       "    </tr>\n",
       "  </thead>\n",
       "  <tbody>\n",
       "    <tr>\n",
       "      <th>0</th>\n",
       "      <td>48.0</td>\n",
       "      <td>365</td>\n",
       "      <td>Private room</td>\n",
       "      <td>4.60</td>\n",
       "      <td>East Region</td>\n",
       "    </tr>\n",
       "    <tr>\n",
       "      <th>1</th>\n",
       "      <td>60.0</td>\n",
       "      <td>244</td>\n",
       "      <td>Private room</td>\n",
       "      <td>4.69</td>\n",
       "      <td>North-East Region</td>\n",
       "    </tr>\n",
       "    <tr>\n",
       "      <th>2</th>\n",
       "      <td>50.0</td>\n",
       "      <td>365</td>\n",
       "      <td>Private room</td>\n",
       "      <td>4.70</td>\n",
       "      <td>East Region</td>\n",
       "    </tr>\n",
       "    <tr>\n",
       "      <th>3</th>\n",
       "      <td>200.0</td>\n",
       "      <td>362</td>\n",
       "      <td>Entire home/apt</td>\n",
       "      <td>4.93</td>\n",
       "      <td>East Region</td>\n",
       "    </tr>\n",
       "    <tr>\n",
       "      <th>4</th>\n",
       "      <td>60.0</td>\n",
       "      <td>239</td>\n",
       "      <td>Private room</td>\n",
       "      <td>4.81</td>\n",
       "      <td>North-East Region</td>\n",
       "    </tr>\n",
       "  </tbody>\n",
       "</table>\n",
       "</div>"
      ],
      "text/plain": [
       "   price  availability_365        room_type  review_scores_rating  \\\n",
       "0   48.0               365     Private room                  4.60   \n",
       "1   60.0               244     Private room                  4.69   \n",
       "2   50.0               365     Private room                  4.70   \n",
       "3  200.0               362  Entire home/apt                  4.93   \n",
       "4   60.0               239     Private room                  4.81   \n",
       "\n",
       "  neighbourhood_group_cleansed  \n",
       "0                  East Region  \n",
       "1            North-East Region  \n",
       "2                  East Region  \n",
       "3                  East Region  \n",
       "4            North-East Region  "
      ]
     },
     "execution_count": 161,
     "metadata": {},
     "output_type": "execute_result"
    }
   ],
   "source": [
    "df.head()"
   ]
  },
  {
   "cell_type": "code",
   "execution_count": 162,
   "id": "9b3e5dfc",
   "metadata": {},
   "outputs": [
    {
     "data": {
      "text/plain": [
       "price                           0\n",
       "availability_365                0\n",
       "room_type                       0\n",
       "review_scores_rating            0\n",
       "neighbourhood_group_cleansed    0\n",
       "dtype: int64"
      ]
     },
     "execution_count": 162,
     "metadata": {},
     "output_type": "execute_result"
    }
   ],
   "source": [
    "df.dropna()\n",
    "df.isnull().sum()"
   ]
  },
  {
   "cell_type": "code",
   "execution_count": 163,
   "id": "5fe586cb",
   "metadata": {},
   "outputs": [],
   "source": [
    "roomtype_map = {'Private room': 0, 'Entire home/apt': 1}\n",
    "neighbourhood_map = {'North Region': 0, 'East Region': 1, 'North-east Region': 2, 'West Region': 3}\n",
    "\n",
    "df['roomtype'] = df['room_type'].map(roomtype_map)\n",
    "df['neighbourhood'] = df['neighbourhood_group_cleansed'].map(neighbourhood_map)"
   ]
  },
  {
   "cell_type": "code",
   "execution_count": 164,
   "id": "eba9f5a2",
   "metadata": {},
   "outputs": [],
   "source": [
    "features = ['price', 'availability_365', 'roomtype', 'neighbourhood']\n",
    "X = df[features].dropna()"
   ]
  },
  {
   "cell_type": "code",
   "execution_count": 165,
   "id": "0319a995",
   "metadata": {},
   "outputs": [],
   "source": [
    "df.drop(['room_type', 'neighbourhood_group_cleansed'], axis=1, inplace=True)"
   ]
  },
  {
   "cell_type": "code",
   "execution_count": 166,
   "id": "d8bfd504",
   "metadata": {},
   "outputs": [],
   "source": [
    "df.to_csv('cleaned_unsupervised.csv', index=False)"
   ]
  },
  {
   "cell_type": "code",
   "execution_count": 167,
   "id": "96749779",
   "metadata": {},
   "outputs": [],
   "source": [
    "scaler = StandardScaler()\n",
    "X_scaled = scaler.fit_transform(X)"
   ]
  },
  {
   "cell_type": "code",
   "execution_count": 168,
   "id": "72797cc0",
   "metadata": {},
   "outputs": [],
   "source": [
    "sil_scores = []\n",
    "for i in range(2, 11):\n",
    "    kmeans = KMeans(n_clusters=i, init='k-means++', random_state=42, n_init=10)\n",
    "    kmeans.fit(X_scaled)\n",
    "    score = silhouette_score(X_scaled, kmeans.labels_)\n",
    "    sil_scores.append(score)"
   ]
  },
  {
   "cell_type": "code",
   "execution_count": 169,
   "id": "b0a68c9b",
   "metadata": {},
   "outputs": [
    {
     "data": {
      "image/png": "[encoded data removed]",
      "text/plain": [
       "<Figure size 640x480 with 1 Axes>"
      ]
     },
     "metadata": {},
     "output_type": "display_data"
    }
   ],
   "source": [
    "import matplotlib.pyplot as plt\n",
    "plt.plot(range(2, 11), sil_scores, marker='o')\n",
    "plt.title(\"Silhouette Score untuk Berbagai Nilai k\")\n",
    "plt.xlabel(\"Jumlah Cluster (k)\")\n",
    "plt.ylabel(\"Silhouette Score\")\n",
    "plt.grid(True)\n",
    "plt.show()"
   ]
  },
  {
   "cell_type": "code",
   "execution_count": 170,
   "id": "cc7b8e72",
   "metadata": {},
   "outputs": [
    {
     "name": "stdout",
     "output_type": "stream",
     "text": [
      "Best k: 5\n"
     ]
    }
   ],
   "source": [
    "best_k = range(2, 11)[sil_scores.index(max(sil_scores))]\n",
    "print(\"Best k:\", best_k)"
   ]
  },
  {
   "cell_type": "code",
   "execution_count": 171,
   "id": "45f2a164",
   "metadata": {},
   "outputs": [],
   "source": [
    "kmeans = KMeans(n_clusters=best_k, init='k-means++', random_state=42, n_init=10)\n",
    "X['cluster'] = kmeans.fit_predict(X_scaled)"
   ]
  },
  {
   "cell_type": "code",
   "execution_count": 172,
   "id": "858afe21",
   "metadata": {},
   "outputs": [
    {
     "ename": "NameError",
     "evalue": "name 'df_cleaned' is not defined",
     "output_type": "error",
     "traceback": [
      "\u001b[31m---------------------------------------------------------------------------\u001b[39m",
      "\u001b[31mNameError\u001b[39m                                 Traceback (most recent call last)",
      "\u001b[36mCell\u001b[39m\u001b[36m \u001b[39m\u001b[32mIn[172]\u001b[39m\u001b[32m, line 1\u001b[39m\n\u001b[32m----> \u001b[39m\u001b[32m1\u001b[39m cluster_summary = \u001b[43mdf_cleaned\u001b[49m.groupby(\u001b[33m'\u001b[39m\u001b[33mcluster\u001b[39m\u001b[33m'\u001b[39m).mean()\n\u001b[32m      2\u001b[39m \u001b[38;5;28mprint\u001b[39m(cluster_summary)\n",
      "\u001b[31mNameError\u001b[39m: name 'df_cleaned' is not defined"
     ]
    }
   ],
   "source": [
    "cluster_summary = df_cleaned.groupby('cluster').mean()\n",
    "print(cluster_summary)"
   ]
  },
  {
   "cell_type": "code",
   "execution_count": 173,
   "id": "e35994b8",
   "metadata": {},
   "outputs": [
    {
     "ename": "NameError",
     "evalue": "name 'df_cleaned' is not defined",
     "output_type": "error",
     "traceback": [
      "\u001b[31m---------------------------------------------------------------------------\u001b[39m",
      "\u001b[31mNameError\u001b[39m                                 Traceback (most recent call last)",
      "\u001b[36mCell\u001b[39m\u001b[36m \u001b[39m\u001b[32mIn[173]\u001b[39m\u001b[32m, line 15\u001b[39m\n\u001b[32m     13\u001b[39m \u001b[38;5;66;03m# Visualisasi\u001b[39;00m\n\u001b[32m     14\u001b[39m plt.figure(figsize=(\u001b[32m10\u001b[39m, \u001b[32m6\u001b[39m))\n\u001b[32m---> \u001b[39m\u001b[32m15\u001b[39m sns.scatterplot(data=\u001b[43mdf_cleaned\u001b[49m, x=\u001b[33m'\u001b[39m\u001b[33mpca1\u001b[39m\u001b[33m'\u001b[39m, y=\u001b[33m'\u001b[39m\u001b[33mpca2\u001b[39m\u001b[33m'\u001b[39m, hue=\u001b[33m'\u001b[39m\u001b[33mcluster\u001b[39m\u001b[33m'\u001b[39m, palette=\u001b[33m'\u001b[39m\u001b[33mtab10\u001b[39m\u001b[33m'\u001b[39m, s=\u001b[32m60\u001b[39m)\n\u001b[32m     16\u001b[39m plt.title(\u001b[33mf\u001b[39m\u001b[33m'\u001b[39m\u001b[33mKMeans Clustering with PCA (k = \u001b[39m\u001b[38;5;132;01m{\u001b[39;00mbest_k\u001b[38;5;132;01m}\u001b[39;00m\u001b[33m)\u001b[39m\u001b[33m'\u001b[39m)\n\u001b[32m     17\u001b[39m plt.xlabel(\u001b[33m\"\u001b[39m\u001b[33mPCA 1\u001b[39m\u001b[33m\"\u001b[39m)\n",
      "\u001b[31mNameError\u001b[39m: name 'df_cleaned' is not defined"
     ]
    },
    {
     "data": {
      "text/plain": [
       "<Figure size 1000x600 with 0 Axes>"
      ]
     },
     "metadata": {},
     "output_type": "display_data"
    }
   ],
   "source": [
    "from sklearn.decomposition import PCA\n",
    "import seaborn as sns\n",
    "import matplotlib.pyplot as plt\n",
    "\n",
    "# Reduksi ke 2 dimensi\n",
    "pca = PCA(n_components=2)\n",
    "X_pca = pca.fit_transform(X_scaled)\n",
    "\n",
    "# Tambahkan ke dataframe\n",
    "X['pca1'] = X_pca[:, 0]\n",
    "X['pca2'] = X_pca[:, 1]\n",
    "\n",
    "# Visualisasi\n",
    "plt.figure(figsize=(10, 6))\n",
    "sns.scatterplot(data=df_cleaned, x='pca1', y='pca2', hue='cluster', palette='tab10', s=60)\n",
    "plt.title(f'KMeans Clustering with PCA (k = {best_k})')\n",
    "plt.xlabel(\"PCA 1\")\n",
    "plt.ylabel(\"PCA 2\")\n",
    "plt.grid(True)\n",
    "plt.legend(title='Cluster')\n",
    "plt.show()\n"
   ]
  }
 ],
 "metadata": {
  "kernelspec": {
   "display_name": "Python 3",
   "language": "python",
   "name": "python3"
  },
  "language_info": {
   "codemirror_mode": {
    "name": "ipython",
    "version": 3
   },
   "file_extension": ".py",
   "mimetype": "text/x-python",
   "name": "python",
   "nbconvert_exporter": "python",
   "pygments_lexer": "ipython3",
   "version": "3.11.9"
  }
 },
 "nbformat": 4,
 "nbformat_minor": 5
}
