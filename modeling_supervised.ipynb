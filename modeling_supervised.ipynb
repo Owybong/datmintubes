{
 "cells": [
  {
   "cell_type": "code",
   "execution_count": 1,
   "id": "ac2e02a3",
   "metadata": {},
   "outputs": [],
   "source": [
    "import pandas as pd\n",
    "import numpy as np"
   ]
  },
  {
   "cell_type": "code",
   "execution_count": 2,
   "id": "c194cc0c",
   "metadata": {},
   "outputs": [],
   "source": [
    "data = pd.read_csv('listing_updated_cleaned.csv')\n",
    "df = pd.DataFrame(data)"
   ]
  },
  {
   "cell_type": "code",
   "execution_count": 3,
   "id": "dd14eb75",
   "metadata": {},
   "outputs": [
    {
     "data": {
      "text/html": [
       "<div>\n",
       "<style scoped>\n",
       "    .dataframe tbody tr th:only-of-type {\n",
       "        vertical-align: middle;\n",
       "    }\n",
       "\n",
       "    .dataframe tbody tr th {\n",
       "        vertical-align: top;\n",
       "    }\n",
       "\n",
       "    .dataframe thead th {\n",
       "        text-align: right;\n",
       "    }\n",
       "</style>\n",
       "<table border=\"1\" class=\"dataframe\">\n",
       "  <thead>\n",
       "    <tr style=\"text-align: right;\">\n",
       "      <th></th>\n",
       "      <th>neighbourhood_group_cleansed</th>\n",
       "      <th>price</th>\n",
       "      <th>number_of_reviews</th>\n",
       "      <th>review_scores_rating</th>\n",
       "      <th>availability_365</th>\n",
       "    </tr>\n",
       "  </thead>\n",
       "  <tbody>\n",
       "    <tr>\n",
       "      <th>0</th>\n",
       "      <td>East Region</td>\n",
       "      <td>48.0</td>\n",
       "      <td>60</td>\n",
       "      <td>4.60</td>\n",
       "      <td>365</td>\n",
       "    </tr>\n",
       "    <tr>\n",
       "      <th>1</th>\n",
       "      <td>North-East Region</td>\n",
       "      <td>60.0</td>\n",
       "      <td>82</td>\n",
       "      <td>4.69</td>\n",
       "      <td>244</td>\n",
       "    </tr>\n",
       "    <tr>\n",
       "      <th>2</th>\n",
       "      <td>East Region</td>\n",
       "      <td>50.0</td>\n",
       "      <td>10</td>\n",
       "      <td>4.70</td>\n",
       "      <td>365</td>\n",
       "    </tr>\n",
       "    <tr>\n",
       "      <th>3</th>\n",
       "      <td>East Region</td>\n",
       "      <td>200.0</td>\n",
       "      <td>369</td>\n",
       "      <td>4.93</td>\n",
       "      <td>362</td>\n",
       "    </tr>\n",
       "    <tr>\n",
       "      <th>4</th>\n",
       "      <td>North-East Region</td>\n",
       "      <td>60.0</td>\n",
       "      <td>16</td>\n",
       "      <td>4.81</td>\n",
       "      <td>239</td>\n",
       "    </tr>\n",
       "  </tbody>\n",
       "</table>\n",
       "</div>"
      ],
      "text/plain": [
       "  neighbourhood_group_cleansed  price  number_of_reviews  \\\n",
       "0                  East Region   48.0                 60   \n",
       "1            North-East Region   60.0                 82   \n",
       "2                  East Region   50.0                 10   \n",
       "3                  East Region  200.0                369   \n",
       "4            North-East Region   60.0                 16   \n",
       "\n",
       "   review_scores_rating  availability_365  \n",
       "0                  4.60               365  \n",
       "1                  4.69               244  \n",
       "2                  4.70               365  \n",
       "3                  4.93               362  \n",
       "4                  4.81               239  "
      ]
     },
     "execution_count": 3,
     "metadata": {},
     "output_type": "execute_result"
    }
   ],
   "source": [
    "df.head()"
   ]
  },
  {
   "cell_type": "code",
   "execution_count": 5,
   "id": "a3ed8148",
   "metadata": {},
   "outputs": [],
   "source": [
    "df[\"estimated_revenue\"] = df[\"price\"]*df[\"availability_365\"]"
   ]
  },
  {
   "cell_type": "code",
   "execution_count": 8,
   "id": "be1a6e30",
   "metadata": {},
   "outputs": [
    {
     "data": {
      "text/html": [
       "<div>\n",
       "<style scoped>\n",
       "    .dataframe tbody tr th:only-of-type {\n",
       "        vertical-align: middle;\n",
       "    }\n",
       "\n",
       "    .dataframe tbody tr th {\n",
       "        vertical-align: top;\n",
       "    }\n",
       "\n",
       "    .dataframe thead th {\n",
       "        text-align: right;\n",
       "    }\n",
       "</style>\n",
       "<table border=\"1\" class=\"dataframe\">\n",
       "  <thead>\n",
       "    <tr style=\"text-align: right;\">\n",
       "      <th></th>\n",
       "      <th>neighbourhood_group_cleansed</th>\n",
       "      <th>price</th>\n",
       "      <th>number_of_reviews</th>\n",
       "      <th>review_scores_rating</th>\n",
       "      <th>availability_365</th>\n",
       "      <th>estimated_revenue</th>\n",
       "      <th>revenue_category</th>\n",
       "    </tr>\n",
       "  </thead>\n",
       "  <tbody>\n",
       "    <tr>\n",
       "      <th>0</th>\n",
       "      <td>East Region</td>\n",
       "      <td>48.0</td>\n",
       "      <td>60</td>\n",
       "      <td>4.60</td>\n",
       "      <td>365</td>\n",
       "      <td>17520.0</td>\n",
       "      <td>low</td>\n",
       "    </tr>\n",
       "    <tr>\n",
       "      <th>1</th>\n",
       "      <td>North-East Region</td>\n",
       "      <td>60.0</td>\n",
       "      <td>82</td>\n",
       "      <td>4.69</td>\n",
       "      <td>244</td>\n",
       "      <td>14640.0</td>\n",
       "      <td>low</td>\n",
       "    </tr>\n",
       "    <tr>\n",
       "      <th>2</th>\n",
       "      <td>East Region</td>\n",
       "      <td>50.0</td>\n",
       "      <td>10</td>\n",
       "      <td>4.70</td>\n",
       "      <td>365</td>\n",
       "      <td>18250.0</td>\n",
       "      <td>low</td>\n",
       "    </tr>\n",
       "    <tr>\n",
       "      <th>3</th>\n",
       "      <td>East Region</td>\n",
       "      <td>200.0</td>\n",
       "      <td>369</td>\n",
       "      <td>4.93</td>\n",
       "      <td>362</td>\n",
       "      <td>72400.0</td>\n",
       "      <td>high</td>\n",
       "    </tr>\n",
       "    <tr>\n",
       "      <th>4</th>\n",
       "      <td>North-East Region</td>\n",
       "      <td>60.0</td>\n",
       "      <td>16</td>\n",
       "      <td>4.81</td>\n",
       "      <td>239</td>\n",
       "      <td>14340.0</td>\n",
       "      <td>low</td>\n",
       "    </tr>\n",
       "  </tbody>\n",
       "</table>\n",
       "</div>"
      ],
      "text/plain": [
       "  neighbourhood_group_cleansed  price  number_of_reviews  \\\n",
       "0                  East Region   48.0                 60   \n",
       "1            North-East Region   60.0                 82   \n",
       "2                  East Region   50.0                 10   \n",
       "3                  East Region  200.0                369   \n",
       "4            North-East Region   60.0                 16   \n",
       "\n",
       "   review_scores_rating  availability_365  estimated_revenue revenue_category  \n",
       "0                  4.60               365            17520.0              low  \n",
       "1                  4.69               244            14640.0              low  \n",
       "2                  4.70               365            18250.0              low  \n",
       "3                  4.93               362            72400.0             high  \n",
       "4                  4.81               239            14340.0              low  "
      ]
     },
     "execution_count": 8,
     "metadata": {},
     "output_type": "execute_result"
    }
   ],
   "source": [
    "df.head()"
   ]
  },
  {
   "cell_type": "code",
   "execution_count": 7,
   "id": "4cbe72f3",
   "metadata": {},
   "outputs": [],
   "source": [
    "df[\"revenue_category\"] = pd.qcut(df[\"estimated_revenue\"], q=3, labels=[\"low\",\"mid\",\"high\"])"
   ]
  },
  {
   "cell_type": "code",
   "execution_count": 43,
   "id": "c88b19b6",
   "metadata": {},
   "outputs": [
    {
     "name": "stdout",
     "output_type": "stream",
     "text": [
      "low     130\n",
      "high    123\n",
      "mid     110\n",
      "Name: revenue_category, dtype: int64\n"
     ]
    }
   ],
   "source": [
    "print(df[df['availability_365'] != 365]['revenue_category'].value_counts())"
   ]
  },
  {
   "cell_type": "code",
   "execution_count": 9,
   "id": "6cfcb9ae",
   "metadata": {},
   "outputs": [],
   "source": [
    "feature = [\"price\",\"number_of_reviews\",\"availability_365\"]\n",
    "\n",
    "x = df[feature]\n",
    "y = df[\"revenue_category\"]"
   ]
  },
  {
   "cell_type": "code",
   "execution_count": 10,
   "id": "4059770d",
   "metadata": {},
   "outputs": [],
   "source": [
    "from sklearn.model_selection import train_test_split"
   ]
  },
  {
   "cell_type": "code",
   "execution_count": 28,
   "id": "1be09e56",
   "metadata": {},
   "outputs": [],
   "source": [
    "X_train, X_test, y_train, y_test = train_test_split(x, y, test_size=0.2, random_state=42, stratify=y)"
   ]
  },
  {
   "cell_type": "code",
   "execution_count": 20,
   "id": "57354ec7",
   "metadata": {},
   "outputs": [],
   "source": [
    "from sklearn.linear_model import LogisticRegression\n",
    "from sklearn.tree import DecisionTreeClassifier\n",
    "from sklearn.ensemble import RandomForestClassifier\n",
    "from sklearn.model_selection import cross_val_score\n",
    "from sklearn.metrics import classification_report, accuracy_score\n",
    "from sklearn.metrics import ConfusionMatrixDisplay\n",
    "import matplotlib.pyplot as plt"
   ]
  },
  {
   "cell_type": "code",
   "execution_count": null,
   "id": "c0fe17f2",
   "metadata": {},
   "outputs": [
    {
     "name": "stdout",
     "output_type": "stream",
     "text": [
      "==================================================\n",
      "Logistic Regression Results\n",
      "Test Accuracy: 0.9444\n",
      "Classification Report:\n",
      "              precision    recall  f1-score   support\n",
      "\n",
      "        high       1.00      0.93      0.97        30\n",
      "         low       0.94      0.97      0.95        30\n",
      "         mid       0.90      0.93      0.92        30\n",
      "\n",
      "    accuracy                           0.94        90\n",
      "   macro avg       0.95      0.94      0.94        90\n",
      "weighted avg       0.95      0.94      0.94        90\n",
      "\n",
      "Cross-Validation Accuracy (5-fold): 0.8838 ± 0.0369\n",
      "==================================================\n",
      "Decision Tree Results\n",
      "Test Accuracy: 0.9556\n",
      "Classification Report:\n",
      "              precision    recall  f1-score   support\n",
      "\n",
      "        high       1.00      0.97      0.98        30\n",
      "         low       0.97      0.93      0.95        30\n",
      "         mid       0.91      0.97      0.94        30\n",
      "\n",
      "    accuracy                           0.96        90\n",
      "   macro avg       0.96      0.96      0.96        90\n",
      "weighted avg       0.96      0.96      0.96        90\n",
      "\n",
      "Cross-Validation Accuracy (5-fold): 0.9398 ± 0.0229\n",
      "==================================================\n",
      "Random Forest Results\n",
      "Test Accuracy: 0.9444\n",
      "Classification Report:\n",
      "              precision    recall  f1-score   support\n",
      "\n",
      "        high       1.00      0.97      0.98        30\n",
      "         low       0.91      0.97      0.94        30\n",
      "         mid       0.93      0.90      0.92        30\n",
      "\n",
      "    accuracy                           0.94        90\n",
      "   macro avg       0.95      0.94      0.94        90\n",
      "weighted avg       0.95      0.94      0.94        90\n",
      "\n",
      "Cross-Validation Accuracy (5-fold): 0.9085 ± 0.0309\n"
     ]
    }
   ],
   "source": [
    "models = {\n",
    "    'Logistic Regression': LogisticRegression(max_iter=1000),\n",
    "    'Decision Tree': DecisionTreeClassifier(),\n",
    "    'Random Forest': RandomForestClassifier(),\n",
    "}\n",
    "\n",
    "for name, model in models.items():\n",
    "    print(\"=\" * 50)\n",
    "    print(f\"{name} Results\")\n",
    "\n",
    "    # Fit model\n",
    "    model.fit(X_train, y_train)\n",
    "    y_pred = model.predict(X_test)\n",
    "\n",
    "    # Accuracy & classification report\n",
    "    acc = accuracy_score(y_test, y_pred)\n",
    "    print(f\"Test Accuracy: {acc:.4f}\")\n",
    "    print(\"Classification Report:\")\n",
    "    print(classification_report(y_test, y_pred))\n",
    "\n",
    "    # Cross-validation (on entire X & y)\n",
    "    cv_scores = cross_val_score(model, x, y, cv=5, scoring='accuracy')\n",
    "    print(f\"Cross-Validation Accuracy (5-fold): {cv_scores.mean():.4f} ± {cv_scores.std():.4f}\")"
   ]
  },
  {
   "cell_type": "code",
   "execution_count": 33,
   "id": "607c6db5",
   "metadata": {},
   "outputs": [],
   "source": [
    "model_fix = DecisionTreeClassifier()\n",
    "model_fix.fit(X_train, y_train)\n",
    "y_pred_1 = model_fix.predict(X_test)"
   ]
  },
  {
   "cell_type": "code",
   "execution_count": 39,
   "id": "0bbe8e78",
   "metadata": {},
   "outputs": [
    {
     "data": {
      "image/png": "[encoded data removed]",
      "text/plain": [
       "<Figure size 640x480 with 2 Axes>"
      ]
     },
     "metadata": {},
     "output_type": "display_data"
    }
   ],
   "source": [
    "ConfusionMatrixDisplay.from_estimator(model_fix, X_test, y_test)\n",
    "plt.title(\"decision tree - Confusion Matrix\")\n",
    "plt.show()"
   ]
  },
  {
   "cell_type": "code",
   "execution_count": 37,
   "id": "27dd0efb",
   "metadata": {},
   "outputs": [
    {
     "data": {
      "image/png": "[encoded data removed]",
      "text/plain": [
       "<Figure size 640x480 with 2 Axes>"
      ]
     },
     "metadata": {},
     "output_type": "display_data"
    }
   ],
   "source": [
    "model_fix2 = RandomForestClassifier()\n",
    "model_fix2.fit(X_train, y_train)\n",
    "y_pred_2 = model_fix.predict(X_test)\n",
    "\n",
    "ConfusionMatrixDisplay.from_estimator(model_fix2, X_test, y_test)\n",
    "plt.title(f\"{name} - Confusion Matrix\")\n",
    "plt.show()"
   ]
  }
 ],
 "metadata": {
  "kernelspec": {
   "display_name": "Python 3",
   "language": "python",
   "name": "python3"
  },
  "language_info": {
   "codemirror_mode": {
    "name": "ipython",
    "version": 3
   },
   "file_extension": ".py",
   "mimetype": "text/x-python",
   "name": "python",
   "nbconvert_exporter": "python",
   "pygments_lexer": "ipython3",
   "version": "3.10.7"
  }
 },
 "nbformat": 4,
 "nbformat_minor": 5
}
