{
 "cells": [
  {
   "cell_type": "code",
   "execution_count": 1,
   "id": "38a7ee73",
   "metadata": {},
   "outputs": [],
   "source": [
    "import pandas as pd\n",
    "from sklearn.preprocessing import LabelEncoder\n",
    "from sklearn.ensemble import RandomForestClassifier"
   ]
  },
  {
   "cell_type": "code",
   "execution_count": 2,
   "id": "be82ae01",
   "metadata": {},
   "outputs": [],
   "source": [
    "data = pd.read_csv('unsupervised(elian).csv')\n",
    "df = pd.DataFrame(data)"
   ]
  },
  {
   "cell_type": "code",
   "execution_count": 3,
   "id": "ceb736f2",
   "metadata": {},
   "outputs": [
    {
     "data": {
      "text/html": [
       "<div>\n",
       "<style scoped>\n",
       "    .dataframe tbody tr th:only-of-type {\n",
       "        vertical-align: middle;\n",
       "    }\n",
       "\n",
       "    .dataframe tbody tr th {\n",
       "        vertical-align: top;\n",
       "    }\n",
       "\n",
       "    .dataframe thead th {\n",
       "        text-align: right;\n",
       "    }\n",
       "</style>\n",
       "<table border=\"1\" class=\"dataframe\">\n",
       "  <thead>\n",
       "    <tr style=\"text-align: right;\">\n",
       "      <th></th>\n",
       "      <th>price</th>\n",
       "      <th>availability_365</th>\n",
       "      <th>room_type</th>\n",
       "      <th>review_scores_rating</th>\n",
       "      <th>neighbourhood_group_cleansed</th>\n",
       "      <th>cluster</th>\n",
       "    </tr>\n",
       "  </thead>\n",
       "  <tbody>\n",
       "    <tr>\n",
       "      <th>0</th>\n",
       "      <td>48.0</td>\n",
       "      <td>365</td>\n",
       "      <td>Private room</td>\n",
       "      <td>4.60</td>\n",
       "      <td>East Region</td>\n",
       "      <td>1</td>\n",
       "    </tr>\n",
       "    <tr>\n",
       "      <th>1</th>\n",
       "      <td>60.0</td>\n",
       "      <td>244</td>\n",
       "      <td>Private room</td>\n",
       "      <td>4.69</td>\n",
       "      <td>North-East Region</td>\n",
       "      <td>1</td>\n",
       "    </tr>\n",
       "    <tr>\n",
       "      <th>2</th>\n",
       "      <td>50.0</td>\n",
       "      <td>365</td>\n",
       "      <td>Private room</td>\n",
       "      <td>4.70</td>\n",
       "      <td>East Region</td>\n",
       "      <td>1</td>\n",
       "    </tr>\n",
       "    <tr>\n",
       "      <th>3</th>\n",
       "      <td>200.0</td>\n",
       "      <td>362</td>\n",
       "      <td>Entire home/apt</td>\n",
       "      <td>4.93</td>\n",
       "      <td>East Region</td>\n",
       "      <td>3</td>\n",
       "    </tr>\n",
       "    <tr>\n",
       "      <th>4</th>\n",
       "      <td>60.0</td>\n",
       "      <td>239</td>\n",
       "      <td>Private room</td>\n",
       "      <td>4.81</td>\n",
       "      <td>North-East Region</td>\n",
       "      <td>1</td>\n",
       "    </tr>\n",
       "  </tbody>\n",
       "</table>\n",
       "</div>"
      ],
      "text/plain": [
       "   price  availability_365        room_type  review_scores_rating  \\\n",
       "0   48.0               365     Private room                  4.60   \n",
       "1   60.0               244     Private room                  4.69   \n",
       "2   50.0               365     Private room                  4.70   \n",
       "3  200.0               362  Entire home/apt                  4.93   \n",
       "4   60.0               239     Private room                  4.81   \n",
       "\n",
       "  neighbourhood_group_cleansed  cluster  \n",
       "0                  East Region        1  \n",
       "1            North-East Region        1  \n",
       "2                  East Region        1  \n",
       "3                  East Region        3  \n",
       "4            North-East Region        1  "
      ]
     },
     "execution_count": 3,
     "metadata": {},
     "output_type": "execute_result"
    }
   ],
   "source": [
    "df.head()"
   ]
  },
  {
   "cell_type": "code",
   "execution_count": 4,
   "id": "39b0a8f0",
   "metadata": {},
   "outputs": [],
   "source": [
    "le_room = LabelEncoder()\n",
    "le_region = LabelEncoder()"
   ]
  },
  {
   "cell_type": "code",
   "execution_count": 5,
   "id": "8c3b3fca",
   "metadata": {},
   "outputs": [],
   "source": [
    "df['room_type_encoded'] = le_room.fit_transform(df['room_type'])\n",
    "df['neighbourhood_group_cleansed_encoded'] =le_region.fit_transform(df['neighbourhood_group_cleansed'])"
   ]
  },
  {
   "cell_type": "code",
   "execution_count": 6,
   "id": "0bbbf2d3",
   "metadata": {},
   "outputs": [
    {
     "name": "stdout",
     "output_type": "stream",
     "text": [
      "room type mapping:  {'Entire home/apt': 0, 'Private room': 1}\n",
      "region type mapping:  {'East Region': 0, 'North Region': 1, 'North-East Region': 2, 'West Region': 3}\n"
     ]
    }
   ],
   "source": [
    "room_mapping = dict(zip(le_room.classes_,le_room.transform(le_room.classes_)))\n",
    "region_mapping = dict(zip(le_region.classes_,le_region.transform(le_region.classes_)))\n",
    "\n",
    "print(\"room type mapping: \", room_mapping)\n",
    "print(\"region type mapping: \", region_mapping)"
   ]
  },
  {
   "cell_type": "code",
   "execution_count": 7,
   "id": "a5e8be1d",
   "metadata": {},
   "outputs": [
    {
     "data": {
      "text/html": [
       "<div>\n",
       "<style scoped>\n",
       "    .dataframe tbody tr th:only-of-type {\n",
       "        vertical-align: middle;\n",
       "    }\n",
       "\n",
       "    .dataframe tbody tr th {\n",
       "        vertical-align: top;\n",
       "    }\n",
       "\n",
       "    .dataframe thead th {\n",
       "        text-align: right;\n",
       "    }\n",
       "</style>\n",
       "<table border=\"1\" class=\"dataframe\">\n",
       "  <thead>\n",
       "    <tr style=\"text-align: right;\">\n",
       "      <th></th>\n",
       "      <th>price</th>\n",
       "      <th>availability_365</th>\n",
       "      <th>room_type</th>\n",
       "      <th>review_scores_rating</th>\n",
       "      <th>neighbourhood_group_cleansed</th>\n",
       "      <th>cluster</th>\n",
       "      <th>room_type_encoded</th>\n",
       "      <th>neighbourhood_group_cleansed_encoded</th>\n",
       "      <th>estimated_revenue</th>\n",
       "    </tr>\n",
       "  </thead>\n",
       "  <tbody>\n",
       "    <tr>\n",
       "      <th>0</th>\n",
       "      <td>48.0</td>\n",
       "      <td>365</td>\n",
       "      <td>Private room</td>\n",
       "      <td>4.60</td>\n",
       "      <td>East Region</td>\n",
       "      <td>1</td>\n",
       "      <td>1</td>\n",
       "      <td>0</td>\n",
       "      <td>17520.0</td>\n",
       "    </tr>\n",
       "    <tr>\n",
       "      <th>1</th>\n",
       "      <td>60.0</td>\n",
       "      <td>244</td>\n",
       "      <td>Private room</td>\n",
       "      <td>4.69</td>\n",
       "      <td>North-East Region</td>\n",
       "      <td>1</td>\n",
       "      <td>1</td>\n",
       "      <td>2</td>\n",
       "      <td>14640.0</td>\n",
       "    </tr>\n",
       "    <tr>\n",
       "      <th>2</th>\n",
       "      <td>50.0</td>\n",
       "      <td>365</td>\n",
       "      <td>Private room</td>\n",
       "      <td>4.70</td>\n",
       "      <td>East Region</td>\n",
       "      <td>1</td>\n",
       "      <td>1</td>\n",
       "      <td>0</td>\n",
       "      <td>18250.0</td>\n",
       "    </tr>\n",
       "    <tr>\n",
       "      <th>3</th>\n",
       "      <td>200.0</td>\n",
       "      <td>362</td>\n",
       "      <td>Entire home/apt</td>\n",
       "      <td>4.93</td>\n",
       "      <td>East Region</td>\n",
       "      <td>3</td>\n",
       "      <td>0</td>\n",
       "      <td>0</td>\n",
       "      <td>72400.0</td>\n",
       "    </tr>\n",
       "    <tr>\n",
       "      <th>4</th>\n",
       "      <td>60.0</td>\n",
       "      <td>239</td>\n",
       "      <td>Private room</td>\n",
       "      <td>4.81</td>\n",
       "      <td>North-East Region</td>\n",
       "      <td>1</td>\n",
       "      <td>1</td>\n",
       "      <td>2</td>\n",
       "      <td>14340.0</td>\n",
       "    </tr>\n",
       "  </tbody>\n",
       "</table>\n",
       "</div>"
      ],
      "text/plain": [
       "   price  availability_365        room_type  review_scores_rating  \\\n",
       "0   48.0               365     Private room                  4.60   \n",
       "1   60.0               244     Private room                  4.69   \n",
       "2   50.0               365     Private room                  4.70   \n",
       "3  200.0               362  Entire home/apt                  4.93   \n",
       "4   60.0               239     Private room                  4.81   \n",
       "\n",
       "  neighbourhood_group_cleansed  cluster  room_type_encoded  \\\n",
       "0                  East Region        1                  1   \n",
       "1            North-East Region        1                  1   \n",
       "2                  East Region        1                  1   \n",
       "3                  East Region        3                  0   \n",
       "4            North-East Region        1                  1   \n",
       "\n",
       "   neighbourhood_group_cleansed_encoded  estimated_revenue  \n",
       "0                                     0            17520.0  \n",
       "1                                     2            14640.0  \n",
       "2                                     0            18250.0  \n",
       "3                                     0            72400.0  \n",
       "4                                     2            14340.0  "
      ]
     },
     "execution_count": 7,
     "metadata": {},
     "output_type": "execute_result"
    }
   ],
   "source": [
    "df[\"estimated_revenue\"] = df[\"price\"]*df[\"availability_365\"]\n",
    "\n",
    "df.head()"
   ]
  },
  {
   "cell_type": "code",
   "execution_count": 8,
   "id": "072768f6",
   "metadata": {},
   "outputs": [
    {
     "name": "stdout",
     "output_type": "stream",
     "text": [
      "low     58\n",
      "high    50\n",
      "mid     43\n",
      "Name: revenue_category, dtype: int64\n"
     ]
    }
   ],
   "source": [
    "df[\"revenue_category\"] = pd.qcut(df[\"estimated_revenue\"], q=3, labels=[\"low\",\"mid\",\"high\"])\n",
    "print(df[df['availability_365'] != 365]['revenue_category'].value_counts())"
   ]
  },
  {
   "cell_type": "code",
   "execution_count": 10,
   "id": "538f286f",
   "metadata": {},
   "outputs": [],
   "source": [
    "x = df[['price','availability_365','review_scores_rating','room_type_encoded','neighbourhood_group_cleansed_encoded','cluster']]\n",
    "y = df[\"revenue_category\"]"
   ]
  },
  {
   "cell_type": "code",
   "execution_count": 12,
   "id": "537e7c42",
   "metadata": {},
   "outputs": [],
   "source": [
    "from sklearn.model_selection import train_test_split"
   ]
  },
  {
   "cell_type": "code",
   "execution_count": 13,
   "id": "99392511",
   "metadata": {},
   "outputs": [],
   "source": [
    "X_train, X_test, y_train, y_test = train_test_split(x, y, test_size=0.2, random_state=42, stratify=y)"
   ]
  },
  {
   "cell_type": "code",
   "execution_count": 14,
   "id": "291249e0",
   "metadata": {},
   "outputs": [],
   "source": [
    "from sklearn.model_selection import cross_val_score\n",
    "from sklearn.metrics import classification_report, accuracy_score\n",
    "from sklearn.metrics import ConfusionMatrixDisplay\n",
    "import matplotlib.pyplot as plt"
   ]
  },
  {
   "cell_type": "code",
   "execution_count": 15,
   "id": "3c9eae02",
   "metadata": {},
   "outputs": [],
   "source": [
    "model = RandomForestClassifier()\n",
    "model.fit(X_train, y_train)\n",
    "y_pred = model.predict(X_test)\n"
   ]
  },
  {
   "cell_type": "code",
   "execution_count": 16,
   "id": "9f35cb7b",
   "metadata": {},
   "outputs": [
    {
     "name": "stdout",
     "output_type": "stream",
     "text": [
      "Test Accuracy: 0.9474\n",
      "Classification Report:\n",
      "              precision    recall  f1-score   support\n",
      "\n",
      "        high       1.00      1.00      1.00        13\n",
      "         low       1.00      0.85      0.92        13\n",
      "         mid       0.86      1.00      0.92        12\n",
      "\n",
      "    accuracy                           0.95        38\n",
      "   macro avg       0.95      0.95      0.95        38\n",
      "weighted avg       0.95      0.95      0.95        38\n",
      "\n"
     ]
    }
   ],
   "source": [
    "acc = accuracy_score(y_test, y_pred)\n",
    "print(f\"Test Accuracy: {acc:.4f}\")\n",
    "print(\"Classification Report:\")\n",
    "print(classification_report(y_test, y_pred))"
   ]
  },
  {
   "cell_type": "code",
   "execution_count": 17,
   "id": "3ffa19ad",
   "metadata": {},
   "outputs": [
    {
     "name": "stdout",
     "output_type": "stream",
     "text": [
      "Cross-Validation Accuracy (5-fold): 0.9368 ± 0.0614\n"
     ]
    }
   ],
   "source": [
    "cv_scores = cross_val_score(model, x, y, cv=5, scoring='accuracy')\n",
    "print(f\"Cross-Validation Accuracy (5-fold): {cv_scores.mean():.4f} ± {cv_scores.std():.4f}\")"
   ]
  },
  {
   "cell_type": "code",
   "execution_count": 18,
   "id": "630def89",
   "metadata": {},
   "outputs": [
    {
     "data": {
      "image/png": "[encoded data removed]",
      "text/plain": [
       "<Figure size 640x480 with 2 Axes>"
      ]
     },
     "metadata": {},
     "output_type": "display_data"
    }
   ],
   "source": [
    "ConfusionMatrixDisplay.from_estimator(model, X_test, y_test)\n",
    "plt.title(\"decision tree - Confusion Matrix\")\n",
    "plt.show()"
   ]
  },
  {
   "cell_type": "code",
   "execution_count": 19,
   "id": "b9221bdc",
   "metadata": {},
   "outputs": [
    {
     "data": {
      "text/plain": [
       "['le_region.pkl']"
      ]
     },
     "execution_count": 19,
     "metadata": {},
     "output_type": "execute_result"
    }
   ],
   "source": [
    "import joblib\n",
    "\n",
    "# Save the trained model\n",
    "joblib.dump(model, 'revenue_classifier.pkl')\n",
    "\n",
    "# Save encoders too (they're required for inference)\n",
    "joblib.dump(le_room, 'le_room.pkl')\n",
    "joblib.dump(le_region, 'le_region.pkl')"
   ]
  }
 ],
 "metadata": {
  "kernelspec": {
   "display_name": "Python 3",
   "language": "python",
   "name": "python3"
  },
  "language_info": {
   "codemirror_mode": {
    "name": "ipython",
    "version": 3
   },
   "file_extension": ".py",
   "mimetype": "text/x-python",
   "name": "python",
   "nbconvert_exporter": "python",
   "pygments_lexer": "ipython3",
   "version": "3.10.7"
  }
 },
 "nbformat": 4,
 "nbformat_minor": 5
}
